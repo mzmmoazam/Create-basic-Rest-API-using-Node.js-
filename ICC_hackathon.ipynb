{
  "nbformat": 4,
  "nbformat_minor": 0,
  "metadata": {
    "colab": {
      "name": "ICC_hackathon.ipynb",
      "private_outputs": true,
      "provenance": [],
      "authorship_tag": "ABX9TyM4F4PML0eBLDXeiXD+zfYf",
      "include_colab_link": true
    },
    "kernelspec": {
      "name": "python3",
      "display_name": "Python 3"
    }
  },
  "cells": [
    {
      "cell_type": "markdown",
      "metadata": {
        "id": "view-in-github",
        "colab_type": "text"
      },
      "source": [
        "<a href=\"https://colab.research.google.com/github/mzmmoazam/Create-basic-Rest-API-using-Node.js-/blob/master/ICC_hackathon.ipynb\" target=\"_parent\"><img src=\"https://colab.research.google.com/assets/colab-badge.svg\" alt=\"Open In Colab\"/></a>"
      ]
    },
    {
      "cell_type": "code",
      "metadata": {
        "id": "5XVVd7ip5xTa"
      },
      "source": [
        "!git clone https://github.com/UN-ICC/ICC-Data-Hackathon-2021\r\n",
        "!ls"
      ],
      "execution_count": null,
      "outputs": []
    },
    {
      "cell_type": "code",
      "metadata": {
        "id": "TENhPl9w6Bvm"
      },
      "source": [
        "!mkdir data\r\n",
        "!cp -a ICC-Data-Hackathon-2021/COVID-19/. ./data\r\n",
        "!rm -r ICC-Data-Hackathon-2021/ sample_data/\r\n",
        "# required stuff in data/"
      ],
      "execution_count": null,
      "outputs": []
    },
    {
      "cell_type": "code",
      "metadata": {
        "id": "Bo7CuTgl7P5b"
      },
      "source": [
        "!ls data/"
      ],
      "execution_count": null,
      "outputs": []
    },
    {
      "cell_type": "code",
      "metadata": {
        "id": "UBDeEJYf5CM4"
      },
      "source": [
        "import pandas as pd\r\n",
        "import numpy as np\r\n",
        "import seaborn as sns                       #visualisation\r\n",
        "import matplotlib.pyplot as plt             #visualisation\r\n",
        "%matplotlib inline     \r\n",
        "sns.set(color_codes=True)"
      ],
      "execution_count": null,
      "outputs": []
    },
    {
      "cell_type": "markdown",
      "metadata": {
        "id": "mOqNTSae7aXL"
      },
      "source": [
        "Data set 1 : 'European Centre for Disease Prevention and Control'"
      ]
    },
    {
      "cell_type": "code",
      "metadata": {
        "id": "DN7DbA8D5wS0"
      },
      "source": [
        "!ls data/European\\ Centre\\ for\\ Disease\\ Prevention\\ and\\ Control"
      ],
      "execution_count": null,
      "outputs": []
    },
    {
      "cell_type": "code",
      "metadata": {
        "id": "YWywMgt37rNZ"
      },
      "source": [
        "dataset_path = \"data/European Centre for Disease Prevention and Control/\"\r\n",
        "df = pd.read_csv(dataset_path + \"14_day_age_specific_notification_rate.csv\")\r\n",
        "# To display the top 5 rows \r\n",
        "df.head(5)   "
      ],
      "execution_count": null,
      "outputs": []
    },
    {
      "cell_type": "code",
      "metadata": {
        "id": "8UbrrcvX-fgt"
      },
      "source": [
        "df.columns[df.isnull().any()]"
      ],
      "execution_count": null,
      "outputs": []
    },
    {
      "cell_type": "code",
      "metadata": {
        "id": "dKWZOMFs_cZo"
      },
      "source": [
        "df.shape"
      ],
      "execution_count": null,
      "outputs": []
    },
    {
      "cell_type": "code",
      "metadata": {
        "id": "mD-dzwoO-nk5"
      },
      "source": [
        "df[\"new_cases\"][df['rate_14_day_per_100k'].isnull()].describe()"
      ],
      "execution_count": null,
      "outputs": []
    },
    {
      "cell_type": "code",
      "metadata": {
        "id": "2lMK5seD_7pZ"
      },
      "source": [
        "df = df.fillna(0) # starting rate == 0"
      ],
      "execution_count": null,
      "outputs": []
    },
    {
      "cell_type": "code",
      "metadata": {
        "id": "EEfzbIXpAELb"
      },
      "source": [
        "df.columns[df.isnull().any()]"
      ],
      "execution_count": null,
      "outputs": []
    },
    {
      "cell_type": "code",
      "metadata": {
        "id": "nCjR0s3c897U"
      },
      "source": [
        "df[\"country\"].unique()"
      ],
      "execution_count": null,
      "outputs": []
    },
    {
      "cell_type": "code",
      "metadata": {
        "id": "_D3lqW7F9Xpg"
      },
      "source": [
        "df[\"age_group\"].unique()"
      ],
      "execution_count": null,
      "outputs": []
    },
    {
      "cell_type": "code",
      "metadata": {
        "id": "gSdvJhNDUBZE"
      },
      "source": [
        "df = pd.read_csv(dataset_path + \"country_response_measures.csv\")\r\n",
        "\r\n",
        "df.head()"
      ],
      "execution_count": null,
      "outputs": []
    },
    {
      "cell_type": "code",
      "metadata": {
        "id": "ujmqWy_HUNSP"
      },
      "source": [
        "df.isnull().sum(),df.shape"
      ],
      "execution_count": null,
      "outputs": []
    },
    {
      "cell_type": "code",
      "metadata": {
        "id": "pvzfWcmVUqTA"
      },
      "source": [
        "df[df[\"date_end\"].isnull()] # replace by the highest timestamp in dataset"
      ],
      "execution_count": null,
      "outputs": []
    },
    {
      "cell_type": "code",
      "metadata": {
        "id": "H2pbA9uaVj7m"
      },
      "source": [
        "df[\"date_end\"] = pd.to_datetime(df[\"date_end\"]);\r\n",
        "df[\"date_start\"] = pd.to_datetime(df[\"date_start\"]);\r\n",
        "\r\n",
        "df.fillna(max(max(df[\"date_start\"]),max(df[\"date_end\"])),inplace=True)\r\n",
        "df.isnull().sum()"
      ],
      "execution_count": null,
      "outputs": []
    },
    {
      "cell_type": "code",
      "metadata": {
        "id": "YuMQCVa6XIwF"
      },
      "source": [
        "df = pd.read_csv(dataset_path + \"daily_subnational_14_day_notification_rate.csv\")\r\n",
        "\r\n",
        "df.head()"
      ],
      "execution_count": null,
      "outputs": []
    },
    {
      "cell_type": "code",
      "metadata": {
        "id": "c8tpMhiUXTYU"
      },
      "source": [
        "df.isnull().sum(),df.shape"
      ],
      "execution_count": null,
      "outputs": []
    },
    {
      "cell_type": "code",
      "metadata": {
        "id": "gIW0AFpcXarA"
      },
      "source": [
        "df[df[\"rate_14_day_per_100k\"].isnull()]"
      ],
      "execution_count": null,
      "outputs": []
    },
    {
      "cell_type": "code",
      "metadata": {
        "id": "iMIKY87UX97o"
      },
      "source": [
        "# the missing values are just starting days (first 14 days no rating)"
      ],
      "execution_count": null,
      "outputs": []
    },
    {
      "cell_type": "code",
      "metadata": {
        "id": "5qNlslHXYMkT"
      },
      "source": [
        "df = pd.read_csv(dataset_path + \"daily_subnational_14_day_notification_rate.csv\")\r\n",
        "\r\n",
        "df.head()\r\n",
        "\r\n",
        "# Hola Amigos, I had deleted some steps and some I didn't write\r\n",
        "\r\n",
        "# Those who want to use colab may benefit \r\n",
        "\r\n",
        "# first thing is figure out what data points do we want to use from all files\r\n",
        "\r\n",
        "# decide how to group them country, state etc\r\n",
        "\r\n",
        "# plot and analyse to reach to some conclusion \r\n",
        "\r\n",
        "# at each step communicate we should not all be doing the samething and post in the group \r\n",
        "# this will help to minimise the mistakes and make the progress faster\r\n"
      ],
      "execution_count": null,
      "outputs": []
    }
  ]
}